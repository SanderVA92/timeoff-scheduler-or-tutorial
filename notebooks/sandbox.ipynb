{
 "cells": [
  {
   "cell_type": "code",
   "execution_count": null,
   "id": "initial_id",
   "metadata": {
    "collapsed": true
   },
   "outputs": [],
   "source": [
    "import pulp"
   ]
  },
  {
   "cell_type": "code",
   "outputs": [],
   "source": [
    "model = pulp.LpProblem(\"HelloWorld\", pulp.LpMaximize)"
   ],
   "metadata": {
    "collapsed": false
   },
   "id": "27bfeea5909480d8",
   "execution_count": null
  },
  {
   "cell_type": "code",
   "outputs": [],
   "source": [
    "from datetime import date\n",
    "\n",
    "weekend_days = [date(2025, 1, 1), date(2025, 1, 2), date(2025, 1, 3)]\n",
    "bank_holidays = [date(2025, 1, 1), date(2025, 1, 8)]\n",
    "days_off = [date(2025, 1, 1),date(2025, 1, 4), date(2025, 1, 6)]"
   ],
   "metadata": {
    "collapsed": false
   },
   "id": "4721f1998ccb8305",
   "execution_count": null
  },
  {
   "cell_type": "code",
   "outputs": [],
   "source": [
    "from src.plotting.calendar import holiday_calendar_plot\n",
    "\n",
    "holiday_calendar_plot(bank_holidays, weekend_days, days_off)"
   ],
   "metadata": {
    "collapsed": false
   },
   "id": "e70c5b5c5c53059e",
   "execution_count": null
  }
 ],
 "metadata": {
  "kernelspec": {
   "display_name": "Python 3",
   "language": "python",
   "name": "python3"
  },
  "language_info": {
   "codemirror_mode": {
    "name": "ipython",
    "version": 2
   },
   "file_extension": ".py",
   "mimetype": "text/x-python",
   "name": "python",
   "nbconvert_exporter": "python",
   "pygments_lexer": "ipython2",
   "version": "2.7.6"
  }
 },
 "nbformat": 4,
 "nbformat_minor": 5
}
