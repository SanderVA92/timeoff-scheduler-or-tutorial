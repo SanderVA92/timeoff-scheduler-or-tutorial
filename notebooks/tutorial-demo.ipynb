{
 "cells": [
  {
   "cell_type": "markdown",
   "id": "a623f3541a4c7e32",
   "metadata": {
    "collapsed": false
   },
   "source": [
    "# Holiday-planning: a teaser on OR modelling and implementation\n",
    "This notebook accompanies a demo on OR problem-solving (\"How to plan your holidays using Operations Research?\"), covering the following topics:\n",
    "- understanding and refining the problem (in workshop)\n",
    "- modelling: translating the problem into a mathematical model (in workshop)\n",
    "- implementation: setting up the model using Python and PuLP, and using a solver to find the optimal solution (this notebook)\n",
    "- result interpretation: understanding the output, visualizing the result and deriving insights (this notebook)"
   ]
  },
  {
   "cell_type": "markdown",
   "id": "2b2e83dd3042e62e",
   "metadata": {
    "collapsed": false
   },
   "source": [
    "## Problem description in a nutshell\n",
    "F likes to plan his holidays long in advance. Holidays are a scarce resource for him: he only has a limited yearly budget, and now he wants to make the most out of it.\n",
    "\n",
    "Some of F’s considerations:\n",
    "- He likes to have Fridays off\n",
    "- He needs to do his share of covering school vacations (obligation)\n",
    "- He likes to ski\n",
    "- He really needs a 2-week vacation to go somewhere warm\n",
    "\n",
    "- Being 2 days off? Not sufficient to rest\n",
    "- The longer he is off, the better he rests\n",
    "- More than 20 days in a row? Not even trying to get that approved\n",
    "\n",
    "... oh and let’s be opportunistic: weekends and holidays come for free\n",
    "\n",
    "In this notebook, we will be building a mathematical optimization model to help F plan his holidays, modelling some of the considerations above. We want\n",
    "- to maximize the utility of taking days off\n",
    "- to incentivize being off on specific days of the year, or on specific weekdays\n",
    "- longer periods as those provide more rest\n",
    "- at least one period with a minimum duration of 14 days\n",
    "\n",
    "This notebook glues together the core steps and the building blocks of the optimization model. You can check the `src` folder for the `ModelConfig`  which defines the relevant parameters.\n"
   ]
  },
  {
   "cell_type": "markdown",
   "id": "dc16a4da4d6e8947",
   "metadata": {
    "collapsed": false
   },
   "source": [
    "## Modelling approach\n",
    "_Disclaimer: the notebooks implement a particular modelling approach. This is only one out of a range of possible modelling approach, and is considered the easiest one to grasp the combined aspects of day-level attributes and period-level attributes._\n",
    "\n",
    "Instead of defining the decision variables representing \"on which days to schedule a day off\", a period-level modelling approach is used. A **period** is characterized by the starting date $d$ and the duration of the period in days $l$. We can then represent some examples for the month of May 2024 in the visual below. Red squares represent public holidays.\n",
    "- (May 1, 2024; 5 days) in green require 2 days from the budget as May 1, 4 and 5 are either public holidays or weekends.\n",
    "- (May 9, 2024; 4 days) in yellow requires 1 day from the budget\n",
    "- (May 9, 2024; 5 days) in orange requires 2 days from the budget\n",
    "\n",
    "For each of these periods, the cost in terms of holiday units and value / utility - as sum of marginal day-level value and duration-level value - can be predetermined.\n",
    "\n",
    "![image](https://github.com/user-attachments/assets/8d963c3b-98cd-4d4e-93e0-d482a198aa85)"
   ]
  },
  {
   "cell_type": "markdown",
   "id": "81ca0ea67f107726",
   "metadata": {
    "collapsed": false
   },
   "source": [
    "## Mathematical model formulation\n",
    "\n",
    "### Variables and sets\n",
    "$p_{d, l}$: binary variable to indicate whether we take time off starting on day $d$ for a duration of $l$ days (1) or not (0)\n",
    "\n",
    "$P$: set of all periods (d, l) with start and end date within the planning period\n",
    "\n",
    "$P_{\\delta}  \\subset P$: Subset of all existing periods which overlap with day $\\delta$, i.e. meaning $\\delta$ falls inbetween $d$ and $d+l-1$\n",
    "\n",
    "### Parameters\n",
    "$c_{d, l}$: number of units to be used from holiday budget for taking time off starting on day $d$ for a duration of $l$ days\n",
    "\n",
    "$u_{d, l}$: utility / value we get from taking time off starting on day $d$ for a duration of $l$ days\n",
    "\n",
    "$B$: holiday budget, e.g. we can take 30 days off on a yearly basis\n",
    "\n",
    "### Objective function\n",
    "\n",
    "$\\max \\sum_{p \\in P}{u_{d,l} * p_{d, l}}$\n",
    "\n",
    "### Constraint 1: holiday budget\n",
    "\n",
    "$\\sum_{p \\in P}{c_{d,l} * p_{d,l}} \\leq B$\n",
    "\n",
    "### Constraint 2: single-day coverage\n",
    "We can only get the value of a specific day once, and hence it does not make sense to have two periods which cover a specific date. To model this, we can add a constraint for each day $d$ in the year (or more generic: the planning period) and enforce that at most one period containing that date can be selected.\n",
    "\n",
    "$\\sum_{p \\in P_{\\delta}}{p_{d,l}} \\leq 1$\n"
   ]
  },
  {
   "cell_type": "markdown",
   "id": "66c2bae77445d3f3",
   "metadata": {
    "collapsed": false
   },
   "source": [
    "## Data preprocessing"
   ]
  },
  {
   "cell_type": "code",
   "execution_count": null,
   "id": "86e164d416e974bb",
   "metadata": {
    "collapsed": false
   },
   "outputs": [],
   "source": [
    "import pulp\n",
    "import os\n",
    "from datetime import date, timedelta\n",
    "import matplotlib.pyplot as plt\n",
    "import sys\n",
    "import plotly.express as px\n",
    "\n",
    "sys.path.insert(0, \"..\")\n",
    "from src.plotting.calendar import holiday_calendar_plot\n",
    "from src.mdl.period import HolidayPeriod\n",
    "import src.config as config\n",
    "from src.utils.data_loader import CSVDataLoader\n",
    "from src.utils.time import Time\n",
    "import src.utils.calculators as calculators"
   ]
  },
  {
   "cell_type": "markdown",
   "id": "39a93bf7c80f83d2",
   "metadata": {
    "collapsed": false
   },
   "source": [
    "### Optimization model configuration\n",
    "The optimization model itself has quite a number of parameters that can be adjusted to reflect the preferences of the user or to control the model scope. Hence, we introduce a configuration class to store all of these parameters."
   ]
  },
  {
   "cell_type": "code",
   "execution_count": null,
   "id": "397b061ea953e33d",
   "metadata": {
    "collapsed": false
   },
   "outputs": [],
   "source": [
    "# Generate all dates in the complete planning period\n",
    "start_date = config.ModelConfig.PLANNING_PERIOD_START_DATE\n",
    "end_date = config.ModelConfig.PLANNING_PERIOD_END_DATE\n",
    "\n",
    "all_dates_in_period = [\n",
    "    start_date + timedelta(days=i)\n",
    "    for i in range(config.ModelConfig.NUMBER_DAYS_IN_YEAR + 1)\n",
    "]\n",
    "print(f\"Planning holidays between {start_date} and {end_date}\")"
   ]
  },
  {
   "cell_type": "markdown",
   "id": "3230ef4482a91b",
   "metadata": {
    "collapsed": false
   },
   "source": [
    "### Public holidays and weekends (aka \"free days off\")\n",
    "As we do not have to take a day from our holiday budget for the public holidays, we can use those as \"free days off\"."
   ]
  },
  {
   "cell_type": "code",
   "execution_count": null,
   "id": "57778daa110ecd1e",
   "metadata": {
    "collapsed": false
   },
   "outputs": [],
   "source": [
    "# Data import can be controlled by using the enum class\n",
    "location = config.Location.BERLIN\n",
    "year = start_date.year\n",
    "\n",
    "data_loader = CSVDataLoader(os.path.join(\"..\", \"datasets\"))\n",
    "df_public_holidays = data_loader.load_public_holidays(year, location)\n",
    "\n",
    "all_public_holidays = df_public_holidays[\"Date\"].values\n",
    "\n",
    "print(f\"Public holidays in {location.value} for {year}: {len(all_public_holidays)}\")\n",
    "df_public_holidays"
   ]
  },
  {
   "cell_type": "code",
   "execution_count": null,
   "id": "65cba5e3629942bc",
   "metadata": {
    "collapsed": false
   },
   "outputs": [],
   "source": [
    "all_weekend_days = Time.get_all_weekend_days(all_dates_in_period)\n",
    "print(f\"Number of weekend days: {len(all_weekend_days)}\")"
   ]
  },
  {
   "cell_type": "code",
   "execution_count": null,
   "id": "81c305135ef5dc8",
   "metadata": {
    "collapsed": false
   },
   "outputs": [],
   "source": [
    "holiday_calendar_plot(all_public_holidays, all_weekend_days, [])\n",
    "_ = plt.title(f\"Overview of all public holidays and weekends in {year}\")"
   ]
  },
  {
   "cell_type": "markdown",
   "id": "367de9c61db4dc8e",
   "metadata": {
    "collapsed": false
   },
   "source": [
    "### Create all possible holiday periods\n"
   ]
  },
  {
   "cell_type": "code",
   "execution_count": null,
   "id": "6cc0838d558c4f45",
   "metadata": {
    "collapsed": false
   },
   "outputs": [],
   "source": [
    "from src.utils.time import PeriodFactory\n",
    "\n",
    "holiday_periods = PeriodFactory.generate_all_possible_holiday_periods(\n",
    "    all_dates_in_period, config.ModelConfig.MAX_HOLIDAY_PERIOD_LENGTH\n",
    ")\n",
    "\n",
    "print(\n",
    "    f\"Number of all possible periods with up to {config.ModelConfig.MAX_HOLIDAY_PERIOD_LENGTH} days: {len(holiday_periods)}\\n\"\n",
    ")\n",
    "print(\"First set of periods:\")\n",
    "for period in holiday_periods[:5]:\n",
    "    print(f\"\\t{period}\")"
   ]
  },
  {
   "cell_type": "markdown",
   "id": "c951ffbee49fd761",
   "metadata": {
    "collapsed": false
   },
   "source": [
    "### Derive cost for each holiday period\n",
    "Remember that we do not have to take days off from our budget for those which are already set by the government, i.e. public holidays and weekends. Hence, the cost of a holiday period differs from the length of it."
   ]
  },
  {
   "cell_type": "code",
   "execution_count": null,
   "id": "1cc340532c49064",
   "metadata": {
    "collapsed": false
   },
   "outputs": [],
   "source": [
    "dict_cost_of_taking_day_off = (\n",
    "    calculators.CalculateCost.generate_single_date_cost_lookup(\n",
    "        all_dates_in_period, all_public_holidays\n",
    "    )\n",
    ")\n",
    "\n",
    "print(\"Cost of taking day off on:\")\n",
    "for potential_date in all_dates_in_period[:5]:\n",
    "    print(f\"\\t{potential_date}: {dict_cost_of_taking_day_off[potential_date]}\")"
   ]
  },
  {
   "cell_type": "code",
   "execution_count": null,
   "id": "d9b5aab4f4abeef3",
   "metadata": {
    "collapsed": false
   },
   "outputs": [],
   "source": [
    "print(\"Cost of taking a subsequent period off\")\n",
    "for period in holiday_periods[:5]:\n",
    "    print(\n",
    "        f\"\\t{period}: {calculators.CalculateCost.for_holiday_period(period, dict_cost_of_taking_day_off)}\"\n",
    "    )"
   ]
  },
  {
   "cell_type": "markdown",
   "id": "8218030d00f8713c",
   "metadata": {
    "collapsed": false
   },
   "source": [
    "### Utility we gain from taking days off\n",
    "We can also define a function that calculates the utility we gain from taking a specific period off. This can be used to model the preference for taking consecutive days off as well as for having specific days off. Hence, the total utility captures the following aspects:\n",
    "1. marginal utility of being off on a single day\n",
    "2. duration-based utility to incentivize taking consecutive days off"
   ]
  },
  {
   "cell_type": "markdown",
   "id": "c3d6bb21897a3b7a",
   "metadata": {
    "collapsed": false
   },
   "source": [
    "#### Duration dependent component"
   ]
  },
  {
   "cell_type": "code",
   "execution_count": null,
   "id": "8bc6477b3c3a678",
   "metadata": {
    "collapsed": false
   },
   "outputs": [],
   "source": [
    "# Besides the marginal value of being some time off, we also get additional value for being off for a longer period of time. This is represented by the following step function\n",
    "\n",
    "\n",
    "possible_durations = range(0, 30)\n",
    "length_based_utilities = [\n",
    "    calculators.CalculateUtility.duration_dependent_component(i)\n",
    "    for i in possible_durations\n",
    "]\n",
    "fig = px.line(\n",
    "    x=possible_durations,\n",
    "    y=length_based_utilities,\n",
    "    title=\"Value of taking consecutive days off\",\n",
    ")\n",
    "fig.update_xaxes(title_text=\"Period durations (days)\")\n",
    "fig.update_yaxes(title_text=\"Utility\")"
   ]
  },
  {
   "cell_type": "markdown",
   "id": "32c2842951492030",
   "metadata": {
    "collapsed": false
   },
   "source": [
    "#### (Marginal) utility for a single day off\n",
    "This enables us to take care of specific preferences in taking days off"
   ]
  },
  {
   "cell_type": "code",
   "execution_count": null,
   "id": "b1fd4f197c84cc5d",
   "metadata": {
    "collapsed": false
   },
   "outputs": [],
   "source": [
    "from src.utils.enums import Weekday\n",
    "from src.config import ModelConfig\n",
    "\n",
    "print(\"Marginal value of taking day off on:\")\n",
    "preferred_weekdays = ModelConfig.PREFERRED_WEEKDAYS_OFF\n",
    "preferred_dates_off = ModelConfig.PREFERRED_DATES_OFF\n",
    "\n",
    "# preferred_dates_off = [date(2025, 1, 2)]\n",
    "for date_to_check in all_dates_in_period[:5]:\n",
    "    marginal_value = calculators.CalculateUtility.marginal_value_of_a_single_day(\n",
    "        date_to_check, preferred_weekdays, preferred_dates_off\n",
    "    )\n",
    "    weekday = Weekday(date_to_check.isoweekday()).name\n",
    "    print(f\"\\t{weekday.capitalize()[:3]} {date_to_check}: {marginal_value}\")"
   ]
  },
  {
   "cell_type": "markdown",
   "id": "75ea159e589349ba",
   "metadata": {
    "collapsed": false
   },
   "source": [
    "#### Overall utility of a specific period"
   ]
  },
  {
   "cell_type": "code",
   "execution_count": null,
   "id": "95ba531b25e2bf03",
   "metadata": {
    "collapsed": false
   },
   "outputs": [],
   "source": [
    "print(\"Total value of taking a specific period off:\")\n",
    "for period in holiday_periods[:5]:\n",
    "    utility = calculators.CalculateUtility.total_value_for_period(\n",
    "        period, preferred_weekdays, preferred_dates_off\n",
    "    )\n",
    "    print(f\"\\t{period}: {utility}\")\n",
    "\n",
    "    period_based_component = calculators.CalculateUtility.duration_dependent_component(\n",
    "        period.duration()\n",
    "    )\n",
    "    summed_marginal_component = (\n",
    "        calculators.CalculateUtility.summed_marginal_value_for_period(\n",
    "            period, preferred_weekdays, preferred_dates_off\n",
    "        )\n",
    "    )\n",
    "    print(f\"\\t\\t- duration-based component: {period_based_component}\")\n",
    "    print(f\"\\t\\t- marginal component: {summed_marginal_component}\")\n",
    "    print()"
   ]
  },
  {
   "cell_type": "markdown",
   "id": "f43faa309c12d1a4",
   "metadata": {
    "collapsed": false
   },
   "source": [
    "## Model implementation\n",
    "Using these building blocks, we can now implement the optimization model itself."
   ]
  },
  {
   "cell_type": "code",
   "execution_count": null,
   "id": "6012e732616750b3",
   "metadata": {
    "collapsed": false
   },
   "outputs": [],
   "source": [
    "model = pulp.LpProblem(\"HolidayPlanning\", pulp.LpMaximize)"
   ]
  },
  {
   "cell_type": "markdown",
   "id": "7e5f35b93fd324c7",
   "metadata": {
    "collapsed": false
   },
   "source": [
    "### Decision variable creation\n",
    "Create the variables $p_{d,l}$, one for each of the possible \"options\" we have: either a single line or a 2-line combination.\n",
    "- Variables are binary (0 or 1) as we can select each option only once.\n",
    "- We exclude the combinations that do not save buses as combining them would only introduces additional complexity\n",
    "\n",
    "Other types of decision variables include integer ones (`pulp.LpInteger`) or continuous ones (`pulp.LpContinuous`)."
   ]
  },
  {
   "cell_type": "code",
   "execution_count": null,
   "id": "bfd554edba1a3308",
   "metadata": {
    "collapsed": false
   },
   "outputs": [],
   "source": [
    "# Now we are ready to start creating the variables to decide whether we take a specific day off or not\n",
    "dict_variables = {}\n",
    "for period in holiday_periods:\n",
    "    var_name = f\"being_off_{period}\"\n",
    "    dict_variables[period] = pulp.LpVariable(cat=pulp.LpBinary, name=var_name)"
   ]
  },
  {
   "cell_type": "markdown",
   "id": "b510f9d2f8c5f4ea",
   "metadata": {
    "collapsed": false
   },
   "source": [
    "### Objective function definition (a.k.a. \"the goal\")\n",
    "The objective function is the mathematical representation of the goal we want to achieve. We will either minimize (in this particular example) or maximize towards this objective function.\n",
    "$$\n",
    "\\max \\sum_{(d, l) \\in P}{u_{d,l} * x_{d, l}}\n",
    "$$"
   ]
  },
  {
   "cell_type": "code",
   "execution_count": null,
   "id": "976fc2ab1f21a548",
   "metadata": {
    "collapsed": false
   },
   "outputs": [],
   "source": [
    "# Building the objective function which will aim to maximize the value of the time off\n",
    "objective_function_elements = []\n",
    "for period, decision_variable in dict_variables.items():\n",
    "    value_of_period = calculators.CalculateUtility.total_value_for_period(\n",
    "        period, preferred_weekdays, preferred_dates_off\n",
    "    )\n",
    "    new_element = value_of_period * decision_variable\n",
    "    objective_function_elements.append(new_element)\n",
    "\n",
    "objective_function = pulp.lpSum(objective_function_elements)\n",
    "model.setObjective(objective_function)"
   ]
  },
  {
   "cell_type": "markdown",
   "id": "d1070c2457ad3b04",
   "metadata": {
    "collapsed": false
   },
   "source": [
    "### Constraints - budget\n",
    "Constraints represent hard restrictions on the decisions we want to take: we have to make sure that these are fulfilled, otherwise the solution is not valid (infeasible).\n",
    "\n",
    "Different types of constraints: \n",
    "- `LpConstraintEQ`: strict equality\n",
    "- `LpConstraintGE`: greater-than or equal-to\n",
    "- `LpConstraintLE`: less-than or equal-to\n",
    "\n",
    "**Constraint 1**: we have only a limited number of days off we can take in a year. Hence, we need to make sure that we do not exceed the budget of days off.\n",
    "$$\n",
    "\\sum_{p \\in (d, l)}{c_{d,l} * x_{d,l}} \\leq B\n",
    "$$\n"
   ]
  },
  {
   "cell_type": "code",
   "execution_count": null,
   "id": "fbc67fa4ce843813",
   "metadata": {
    "collapsed": false
   },
   "outputs": [],
   "source": [
    "max_days_off = ModelConfig.HOLIDAY_BUDGET\n",
    "lhs_elements = []\n",
    "\n",
    "for period, decision_variable in dict_variables.items():\n",
    "    cost = calculators.CalculateCost.for_holiday_period(\n",
    "        period, dict_cost_of_taking_day_off\n",
    "    )\n",
    "    lhs_elements.append(decision_variable * cost)\n",
    "\n",
    "budget_constraint = pulp.LpConstraint(\n",
    "    e=pulp.lpSum(lhs_elements),\n",
    "    sense=pulp.LpConstraintLE,\n",
    "    rhs=max_days_off,\n",
    "    name=\"BudgetConstraint\",\n",
    ")\n",
    "model.addConstraint(budget_constraint)"
   ]
  },
  {
   "cell_type": "markdown",
   "id": "7b8475b5463e33b",
   "metadata": {
    "collapsed": false
   },
   "source": [
    "### Constraints - avoid overlapping holiday periods\n",
    "**Constraint 2**: we can get the utility of a specific day only once. \n",
    "\n",
    "In other words: holiday periods cannot be overlapping as this would mean we get the utility of a specific day twice. Especially if one day of the year would have a very high utility, we can expect an optimization solver to exploit this by taking two periods which overlap on this day.\n",
    "\n",
    "To model this, we can add a constraint for each day $\\delta$ in the year (or more generic: the planning period) and enforce that at most one period containing that date can be selected.\n",
    "\n",
    "$$\n",
    "\\sum_{(d, l) \\in P_{\\delta}}{p_{d,l}} \\leq 1 \\quad \\forall \\delta \\in 2025\n",
    "$$\n"
   ]
  },
  {
   "cell_type": "code",
   "execution_count": null,
   "id": "892765cdef38cca3",
   "metadata": {
    "collapsed": false
   },
   "outputs": [],
   "source": [
    "dict_date_variable_coverage: dict[date, set[pulp.LpVariable]] = {\n",
    "    datestamp: set() for datestamp in all_dates_in_period\n",
    "}\n",
    "\n",
    "for period, decision_variable in dict_variables.items():\n",
    "    for datestamp in period.all_days():\n",
    "        dict_date_variable_coverage[datestamp].add(decision_variable)\n",
    "\n",
    "dict_date_constraints: dict[date, pulp.LpConstraint] = {}\n",
    "for datestamp, variables in dict_date_variable_coverage.items():\n",
    "    type_c = pulp.LpConstraintLE\n",
    "\n",
    "    constraint = pulp.LpConstraint(\n",
    "        e=pulp.lpSum(variables),\n",
    "        sense=pulp.LpConstraintLE,\n",
    "        rhs=1,\n",
    "        name=f\"OnePeriodPerDay_{datestamp}\",\n",
    "    )\n",
    "    dict_date_constraints[datestamp] = constraint\n",
    "    model.addConstraint(constraint)"
   ]
  },
  {
   "cell_type": "code",
   "execution_count": null,
   "id": "e29213b6d6f7dce4",
   "metadata": {
    "collapsed": false
   },
   "outputs": [],
   "source": [
    "_ = model.writeLP(\"holiday_planning.lp\")"
   ]
  },
  {
   "cell_type": "markdown",
   "id": "785879444efbeec",
   "metadata": {
    "collapsed": false
   },
   "source": [
    "## Model solving and result interpretation\n",
    "Once formulated, we can pass the model to a solver, which will take care of (trying to) finding the optimal solution. We will use CBC, which is an open-source alternative and comes with the PuLP package.\n",
    "\n",
    "_Note: it is recommended to always set a time-limit. Some problems do not scale well and can take an indefinite time to solve._\n",
    "\n",
    "**Solver statuses**\n",
    "Solving the model can lead to different statuses:\n",
    "- Infeasible: the model cannot be solve as there is not any possible solution satisfying all constraints\n",
    "- No solution found: we ran out of time and did not find any feasible solution yet\n",
    "- Unbounded: the objective function value can become infinite\n",
    "- Optimal: problem could be solved to optimality (\"we know for sure we have found the best possible solution\")"
   ]
  },
  {
   "cell_type": "code",
   "execution_count": null,
   "id": "d7cd4b91ec45c77a",
   "metadata": {
    "collapsed": false
   },
   "outputs": [],
   "source": [
    "model.solve(pulp.PULP_CBC_CMD(timeLimit=20))\n",
    "if model.status != pulp.LpStatusOptimal:\n",
    "    print(\"Model did not find an optimal solution\")"
   ]
  },
  {
   "cell_type": "code",
   "execution_count": null,
   "id": "4e10d5feb3c807a2",
   "metadata": {
    "collapsed": false
   },
   "outputs": [],
   "source": [
    "# Extract the solution by checking the holiday periods we should take off based on the model's optimal result\n",
    "def get_selected_holiday_periods(\n",
    "    dict_variables: dict[HolidayPeriod, pulp.LpVariable]\n",
    ") -> list[HolidayPeriod]:\n",
    "    selected_periods = []\n",
    "    for period, decision_variable in dict_variables.items():\n",
    "        if decision_variable.value() is None:\n",
    "            continue\n",
    "\n",
    "        if decision_variable.varValue > 0.99:\n",
    "            selected_periods.append(period)\n",
    "\n",
    "    return selected_periods"
   ]
  },
  {
   "cell_type": "code",
   "execution_count": null,
   "id": "865ebf7ac3225939",
   "metadata": {
    "collapsed": false
   },
   "outputs": [],
   "source": [
    "selected_periods = get_selected_holiday_periods(dict_variables)\n",
    "\n",
    "print(f\"Selected {len(selected_periods)} holiday periods\\n\")\n",
    "for period in selected_periods:\n",
    "    cost = calculators.CalculateCost.for_holiday_period(\n",
    "        period, dict_cost_of_taking_day_off\n",
    "    )\n",
    "    value = calculators.CalculateUtility.total_value_for_period(\n",
    "        period, preferred_weekdays, preferred_dates_off\n",
    "    )\n",
    "    print(f\"\\t{period} -> cost: {cost} \\t value: {value}\")"
   ]
  },
  {
   "cell_type": "code",
   "execution_count": null,
   "id": "f1c147c3d36f16ea",
   "metadata": {
    "collapsed": false
   },
   "outputs": [],
   "source": [
    "def get_all_days_off(all_periods: list[HolidayPeriod]) -> set[date]:\n",
    "    all_dates_off = set()\n",
    "\n",
    "    for period in all_periods:\n",
    "        all_dates_off = all_dates_off.union(set(period.all_days()))\n",
    "\n",
    "    return all_dates_off\n",
    "\n",
    "\n",
    "all_dates_off = get_all_days_off(selected_periods)"
   ]
  },
  {
   "cell_type": "code",
   "execution_count": null,
   "id": "5a832328fa4b11c3",
   "metadata": {
    "collapsed": false
   },
   "outputs": [],
   "source": [
    "holiday_calendar_plot(all_public_holidays, all_weekend_days, all_dates_off)"
   ]
  },
  {
   "cell_type": "markdown",
   "id": "7821febfb0973cbc",
   "metadata": {
    "collapsed": false
   },
   "source": [
    "### Extension - having at least period with a minimum duration\n",
    "** Constraint 3**: we want to make sure that we have at least one period with a minimum duration of M days. This can be modelled by adding a constraint that enforces that at least one of the periods has a duration of at least M days.\n",
    "\n",
    "Set $P^{\\geq M}$ represents all periods $p_{d, l}: l \\geq M$. Then we can add the following constraint:\n",
    "$$\n",
    "\\sum_{(d, l) \\in P^{\\geq M}}{p_{d,l}} \\geq 1\n",
    "$$"
   ]
  },
  {
   "cell_type": "code",
   "execution_count": null,
   "id": "7a55be3ae636542b",
   "metadata": {
    "collapsed": false
   },
   "outputs": [],
   "source": [
    "single_minimum_duration = 14\n",
    "\n",
    "periods_compliant_with_min_duration = []\n",
    "for period, decision_variable in dict_variables.items():\n",
    "    if period.duration() < single_minimum_duration:\n",
    "        continue\n",
    "    periods_compliant_with_min_duration.append(decision_variable)\n",
    "\n",
    "single_min_duration_constraint = pulp.LpConstraint(\n",
    "    e=pulp.lpSum(periods_compliant_with_min_duration),\n",
    "    sense=pulp.LpConstraintGE,\n",
    "    rhs=1,\n",
    "    name=f\"MinRestPeriod\",\n",
    ")\n",
    "\n",
    "model.addConstraint(single_min_duration_constraint)"
   ]
  },
  {
   "cell_type": "code",
   "execution_count": null,
   "id": "3682c838d74512ce",
   "metadata": {
    "collapsed": false
   },
   "outputs": [],
   "source": [
    "model.solve(pulp.PULP_CBC_CMD(timeLimit=20))\n",
    "if model.status != pulp.LpStatusOptimal:\n",
    "    print(\"Model did not find an optimal solution\")"
   ]
  },
  {
   "cell_type": "code",
   "execution_count": null,
   "id": "82292465a3c4180d",
   "metadata": {
    "collapsed": false
   },
   "outputs": [],
   "source": [
    "selected_periods = get_selected_holiday_periods(dict_variables)\n",
    "all_dates_off = get_all_days_off(selected_periods)\n",
    "\n",
    "print(f\"Selected {len(selected_periods)} holiday periods\\n\")\n",
    "for period in selected_periods:\n",
    "    cost = calculators.CalculateCost.for_holiday_period(\n",
    "        period, dict_cost_of_taking_day_off\n",
    "    )\n",
    "    value = calculators.CalculateUtility.total_value_for_period(\n",
    "        period, preferred_weekdays, preferred_dates_off\n",
    "    )\n",
    "    print(f\"\\t{period} -> cost: {cost} \\t value: {value}\")"
   ]
  },
  {
   "cell_type": "code",
   "execution_count": null,
   "id": "92221d338803de52",
   "metadata": {
    "collapsed": false
   },
   "outputs": [],
   "source": [
    "holiday_calendar_plot(all_public_holidays, all_weekend_days, all_dates_off)"
   ]
  },
  {
   "cell_type": "code",
   "execution_count": null,
   "id": "b8825100ecd15c8d",
   "metadata": {
    "collapsed": false
   },
   "outputs": [],
   "source": []
  }
 ],
 "metadata": {
  "kernelspec": {
   "display_name": "Python 3 (ipykernel)",
   "language": "python",
   "name": "python3"
  },
  "language_info": {
   "codemirror_mode": {
    "name": "ipython",
    "version": 3
   },
   "file_extension": ".py",
   "mimetype": "text/x-python",
   "name": "python",
   "nbconvert_exporter": "python",
   "pygments_lexer": "ipython3",
   "version": "3.10.5"
  }
 },
 "nbformat": 4,
 "nbformat_minor": 5
}
