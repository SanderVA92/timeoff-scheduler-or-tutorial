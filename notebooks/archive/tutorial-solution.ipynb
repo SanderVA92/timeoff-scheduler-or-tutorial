{
 "cells": [
  {
   "cell_type": "markdown",
   "id": "4aea86ed8842e318",
   "metadata": {
    "collapsed": false
   },
   "source": [
    "# Holiday-planning: a teaser on OR modelling and implementation\n",
    "This notebook accompanies a workshop on OR problem-solving, covering the following topics:\n",
    "- understanding and refining the problem (in workshop)\n",
    "- modelling: translating the problem into a mathematical model (in workshop)\n",
    "- implementation: setting up the model using Python and PuLP, and using a solver to find the optimal solution (this notebook)\n",
    "- result interpretation: understanding the output, visualizing the result and deriving insights (this notebook)"
   ]
  },
  {
   "cell_type": "code",
   "execution_count": null,
   "id": "305cd0208d806ad0",
   "metadata": {
    "collapsed": false
   },
   "outputs": [],
   "source": [
    "# Import required dependencies (both 3rd party packages and custom modules)\n",
    "import pulp\n",
    "import os\n",
    "import pandas as pd\n",
    "from enum import Enum\n",
    "from datetime import date, timedelta\n",
    "import matplotlib.pyplot as plt\n",
    "from typing import Callable\n",
    "import sys \n",
    "\n",
    "sys.path.insert(0, '..')\n",
    "from src.plotting.calendar import holiday_calendar_plot\n",
    "from src.mdl.period import HolidayPeriod"
   ]
  },
  {
   "cell_type": "code",
   "execution_count": null,
   "id": "933f1e5e022888b4",
   "metadata": {
    "collapsed": false
   },
   "outputs": [],
   "source": [
    "# Data import can be controlled by using the enum class\n",
    "class Location(Enum):\n",
    "    BERLIN = 'Berlin'\n",
    "    MUNICH = 'Munich'\n",
    "    \n",
    "location = Location.MUNICH\n",
    "year = 2025\n",
    "\n",
    "filename_public_holidays = f'{year}_public_holidays_{location.value}.csv'\n",
    "data_directory = os.path.join('..', 'datasets')\n",
    "\n",
    "filepath_public_holidays = os.path.join(data_directory, filename_public_holidays)"
   ]
  },
  {
   "cell_type": "code",
   "execution_count": null,
   "id": "2cef0a00c3260b8f",
   "metadata": {
    "collapsed": false
   },
   "outputs": [],
   "source": [
    "df_public_holidays = pd.read_csv(filepath_public_holidays, delimiter=',', usecols=['Date', 'Holiday'], dtype={'Holiday': str, 'Date': str})\n",
    "df_public_holidays.sort_values(by='Date', inplace=True)\n",
    "df_public_holidays['Date'] = pd.to_datetime(df_public_holidays['Date']).dt.date\n",
    "all_public_holidays = df_public_holidays['Date'].values\n",
    "\n",
    "df_public_holidays"
   ]
  },
  {
   "cell_type": "markdown",
   "id": "c5320a8d9db55343",
   "metadata": {
    "collapsed": false
   },
   "source": [
    "# 1. Data preparation\n",
    "Use this section to prepare all the data needed before we can start implementing the model, e.g.\n",
    "- creating of all possible periods\n",
    "- cost calculation\n",
    "- utility calculation"
   ]
  },
  {
   "cell_type": "code",
   "execution_count": null,
   "id": "36f118ba8863374d",
   "metadata": {
    "collapsed": false
   },
   "outputs": [],
   "source": [
    "# The configuration class can be used to store all the configuration parameters\n",
    "class LocalConfig:\n",
    "    PLANNING_PERIOD_START_DATE: date = date(2025, 1, 1)\n",
    "    NUMBER_DAYS_IN_YEAR: int = 365\n",
    "    MAX_HOLIDAY_PERIOD_LENGTH: int = 30\n",
    "    \n",
    "    # Parameters to capture how we derive value from the days off we plan\n",
    "    ## Control the gain in utility from taking consecutive days off\n",
    "    MIN_TIME_OFF_TO_GET_VALUE: int = 3\n",
    "    PERIOD_LENGTH_GAIN_START: int = 4\n",
    "    PERIOD_LENGTH_GAIN_CUTOFF: int = 20\n",
    "    \n",
    "    BASELINE_MARGINAL_VALUE: float = 1\n",
    "    BONUS_MARGINAL_VALUE: float = 0.5\n",
    "    \n",
    "    PREFERRED_WEEKDAYS_OFF: list[int] = [1, 5]\n",
    "    PREFERRED_DATES_OFF: list[date] = [date(2025, 6, 19)]\n",
    "    \n",
    "    HOLIDAY_BUDGET: int = 30"
   ]
  },
  {
   "cell_type": "code",
   "execution_count": null,
   "id": "2dfb445018c8076c",
   "metadata": {
    "collapsed": false
   },
   "outputs": [],
   "source": [
    "# Generate all dates in the complete planning period\n",
    "start_date = LocalConfig.PLANNING_PERIOD_START_DATE\n",
    "end_date = start_date + timedelta(days=LocalConfig.NUMBER_DAYS_IN_YEAR-1)\n",
    "\n",
    "all_dates_in_period = [start_date + timedelta(days=i) for i in range(LocalConfig.NUMBER_DAYS_IN_YEAR)]\n",
    "print(f'Planning holidays between {start_date} and {end_date}')"
   ]
  },
  {
   "cell_type": "code",
   "execution_count": null,
   "id": "c78ff31a3a3681f0",
   "metadata": {
    "collapsed": false
   },
   "outputs": [],
   "source": [
    "def is_weekend_day(day: date) -> bool:\n",
    "    return day.isoweekday() in [6, 7]\n",
    "\n",
    "def get_all_weekend_days(all_dates: list[date]) -> list[date]:\n",
    "    return [day for day in all_dates if is_weekend_day(day)]\n",
    "\n",
    "# print(is_weekend_day(date(2024, 9, 21)))\n",
    "# print(get_all_weekend_days(all_dates_in_period))"
   ]
  },
  {
   "cell_type": "code",
   "execution_count": null,
   "id": "ab1660aba1b5a352",
   "metadata": {
    "collapsed": false
   },
   "outputs": [],
   "source": [
    "# Visualize the distribution of weekend days and holidays in the year\n",
    "all_weekend_days = get_all_weekend_days(all_dates_in_period)\n",
    "\n",
    "holiday_calendar_plot(all_public_holidays, all_weekend_days, [])\n",
    "_ = plt.title(f\"Overview of all public holidays and weekends in {year}\")"
   ]
  },
  {
   "cell_type": "markdown",
   "id": "153274a336cb4af3",
   "metadata": {
    "collapsed": false
   },
   "source": [
    "## 1a. Generate all possible holiday periods"
   ]
  },
  {
   "cell_type": "code",
   "execution_count": null,
   "id": "ca598541c9cbac12",
   "metadata": {
    "collapsed": false
   },
   "outputs": [],
   "source": [
    "# Pre-generate all possible holiday periods \n",
    "def generate_all_possible_holiday_periods(potential_start_dates: list[date], planning_end_date: date) -> list[HolidayPeriod]:\n",
    "    all_periods = []\n",
    "    for start_date in potential_start_dates:\n",
    "        for duration in range(1, LocalConfig.MAX_HOLIDAY_PERIOD_LENGTH + 1):\n",
    "            if start_date + timedelta(days=duration) > planning_end_date:\n",
    "                break\n",
    "            \n",
    "            new_period = HolidayPeriod(start_date, duration)\n",
    "            all_periods.append(new_period)\n",
    "            \n",
    "    return all_periods\n",
    "\n",
    "\n",
    "holiday_periods = generate_all_possible_holiday_periods(all_dates_in_period, end_date)"
   ]
  },
  {
   "cell_type": "code",
   "execution_count": null,
   "id": "dd28e566f0eae08f",
   "metadata": {
    "collapsed": false
   },
   "outputs": [],
   "source": []
  },
  {
   "cell_type": "markdown",
   "id": "6d77ae8503a4be4d",
   "metadata": {
    "collapsed": false
   },
   "source": [
    "## 1b. Calculate utility we derive from taking a specific holiday period"
   ]
  },
  {
   "cell_type": "code",
   "execution_count": null,
   "id": "a0e6cbe5070495f0",
   "metadata": {
    "collapsed": false
   },
   "outputs": [],
   "source": [
    "# We derive a marginal value from being off on a specific day, which represents the incremental value of being off on that day. For example, being off on Friday brings me some bonus score, as well as being off on specific dates.\n",
    "def generate_marginal_value_lookup(\n",
    "    all_dates_in_period: list[date],\n",
    ") -> dict[date, float]:\n",
    "    dict_marginal_value = {}\n",
    "    \n",
    "    for datestamp in all_dates_in_period:\n",
    "        dict_marginal_value[datestamp] = LocalConfig.BASELINE_MARGINAL_VALUE\n",
    "        \n",
    "        if datestamp.isoweekday() in LocalConfig.PREFERRED_WEEKDAYS_OFF:\n",
    "            dict_marginal_value[datestamp] += LocalConfig.BONUS_MARGINAL_VALUE\n",
    "            continue\n",
    "        \n",
    "        if datestamp in LocalConfig.PREFERRED_DATES_OFF:\n",
    "            dict_marginal_value[datestamp] += LocalConfig.BONUS_MARGINAL_VALUE\n",
    "            continue\n",
    "            \n",
    "    return dict_marginal_value\n",
    "    \n",
    "dict_marginal_value_of_day_off = generate_marginal_value_lookup(all_dates_in_period)\n",
    "# dict_marginal_value_of_day_off\n",
    "    "
   ]
  },
  {
   "cell_type": "code",
   "execution_count": null,
   "id": "2d35e1ba1910b154",
   "metadata": {
    "collapsed": false
   },
   "outputs": [],
   "source": [
    "# Besides the marginal value of being some time off, we also get additional value for being off for a longer period of time. This is represented by the following step function\n",
    "def calculate_value_for_period_duration(duration_in_days: int) -> float:\n",
    "    value = 1\n",
    "    \n",
    "    min_duration = LocalConfig.PERIOD_LENGTH_GAIN_START\n",
    "    max_duration = LocalConfig.PERIOD_LENGTH_GAIN_CUTOFF\n",
    "    if duration_in_days < min_duration:\n",
    "        return 0\n",
    "    \n",
    "    # Above the minimum holiday period length, we accumulate an exponentially increasing value for the time off.\n",
    "    if duration_in_days > max_duration:\n",
    "        additional_value = (max_duration - min_duration + 1) * value\n",
    "        return additional_value\n",
    "\n",
    "    additional_value = (duration_in_days - min_duration + 1) * value\n",
    "    return additional_value\n",
    "\n",
    "_ = plt.plot([calculate_value_for_period_duration(i) for i in range(1, 30)])\n",
    "_ = plt.title(\"Value of taking consecutive days off\")"
   ]
  },
  {
   "cell_type": "code",
   "execution_count": null,
   "id": "bf52c6a39d03da32",
   "metadata": {
    "collapsed": false
   },
   "outputs": [],
   "source": [
    "# Using this function, we can now calculate the value of a specific holiday period as the combination of the marginal value and the period-based value\n",
    "def calculate_value_of_period(period: HolidayPeriod, marginal_value_lookup: dict[date, float], period_based_value_generator: Callable) -> float:\n",
    "    total_value = 0\n",
    "    if period.duration() < LocalConfig.MIN_TIME_OFF_TO_GET_VALUE:\n",
    "        return 0\n",
    "    \n",
    "    for day in period.all_days():\n",
    "        total_value += marginal_value_lookup[day]\n",
    "        \n",
    "    total_value += period_based_value_generator(period.duration())\n",
    "    return total_value\n"
   ]
  },
  {
   "cell_type": "markdown",
   "id": "aef4e0881a0d4229",
   "metadata": {
    "collapsed": false
   },
   "source": [
    "## 1c. Calculate the cost of taking a specific holiday period"
   ]
  },
  {
   "cell_type": "code",
   "execution_count": null,
   "id": "fadc1dbe766e8b2a",
   "metadata": {
    "collapsed": false
   },
   "outputs": [],
   "source": [
    "# We should determine how many units to spend for a specific holiday period. Bank holidays and weekend days are \"free\" days off, so we do not need to spend any units for them.\n",
    "def generate_cost_lookup(all_dates_in_period: list[date], cost_free_dates: list[date]) -> dict[date, int]:\n",
    "    dict_cost = {}\n",
    "    \n",
    "    for datestamp in all_dates_in_period:\n",
    "        if is_weekend_day(datestamp):\n",
    "            dict_cost[datestamp] = 0\n",
    "            continue\n",
    "        \n",
    "        if datestamp in cost_free_dates:\n",
    "            dict_cost[datestamp] = 0\n",
    "            continue\n",
    "            \n",
    "        dict_cost[datestamp] = 1\n",
    "        \n",
    "    return dict_cost"
   ]
  },
  {
   "cell_type": "code",
   "execution_count": null,
   "id": "3237c94699201ca",
   "metadata": {
    "collapsed": false
   },
   "outputs": [],
   "source": [
    "def calculate_cost_of_period(period: HolidayPeriod, daily_cost_lookup: dict[date, int]) -> int:\n",
    "    total_cost = 0\n",
    "    for day in period.all_days():\n",
    "        total_cost += daily_cost_lookup[day]\n",
    "    \n",
    "    return total_cost"
   ]
  },
  {
   "cell_type": "code",
   "execution_count": null,
   "id": "7f4347b9c2bda762",
   "metadata": {
    "collapsed": false
   },
   "outputs": [],
   "source": [
    "dict_cost_of_taking_day_off = generate_cost_lookup(all_dates_in_period, all_public_holidays)\n"
   ]
  },
  {
   "cell_type": "code",
   "execution_count": null,
   "id": "3eb0a51526a08269",
   "metadata": {
    "collapsed": false
   },
   "outputs": [],
   "source": []
  },
  {
   "cell_type": "markdown",
   "id": "7a7a913e0c338c50",
   "metadata": {
    "collapsed": false
   },
   "source": [
    "# 2. Model implementation\n",
    "Using these building blocks, we can now implement the optimization model itself.\n",
    "Check the code snippets in Figma for some assistance."
   ]
  },
  {
   "cell_type": "code",
   "execution_count": null,
   "id": "5829c62e11c55c10",
   "metadata": {
    "collapsed": false
   },
   "outputs": [],
   "source": [
    "model = pulp.LpProblem(\"HolidayPlanning\", pulp.LpMaximize)"
   ]
  },
  {
   "cell_type": "markdown",
   "id": "c3f8609ad26dcbf",
   "metadata": {
    "collapsed": false
   },
   "source": [
    "## 2a. Decision variable creation"
   ]
  },
  {
   "cell_type": "code",
   "execution_count": null,
   "id": "ad4448fea1e64fcf",
   "metadata": {
    "collapsed": false
   },
   "outputs": [],
   "source": [
    "# Now we are ready to start creating the variables to decide whether we take a specific day off or not\n",
    "dict_variables = {}\n",
    "for period in holiday_periods:\n",
    "    var_name = f\"being_off_{period}\"\n",
    "    dict_variables[period] = pulp.LpVariable(cat=pulp.LpBinary, name=var_name)\n"
   ]
  },
  {
   "cell_type": "code",
   "execution_count": null,
   "id": "f07095d5fb148c08",
   "metadata": {
    "collapsed": false
   },
   "outputs": [],
   "source": []
  },
  {
   "cell_type": "markdown",
   "id": "3965ff2938f46532",
   "metadata": {
    "collapsed": false
   },
   "source": [
    "## 2b. Objective function definition"
   ]
  },
  {
   "cell_type": "code",
   "execution_count": null,
   "id": "9585e92766c16da8",
   "metadata": {
    "collapsed": false
   },
   "outputs": [],
   "source": [
    "# Building the objective function which will aim to maximize the value of the time off\n",
    "objective_function_elements = []\n",
    "for period, decision_variable in dict_variables.items():\n",
    "    value_of_period = calculate_value_of_period(period, dict_marginal_value_of_day_off, calculate_value_for_period_duration)\n",
    "    new_element = value_of_period * decision_variable\n",
    "    objective_function_elements.append(new_element)\n",
    "    \n",
    "objective_function = pulp.lpSum(objective_function_elements)\n",
    "model.setObjective(objective_function)\n"
   ]
  },
  {
   "cell_type": "code",
   "execution_count": null,
   "id": "4b7726dad19c491b",
   "metadata": {
    "collapsed": false
   },
   "outputs": [],
   "source": []
  },
  {
   "cell_type": "markdown",
   "id": "a14c1a85e7e7d1b7",
   "metadata": {
    "collapsed": false
   },
   "source": [
    "## 2c. Constraints definition"
   ]
  },
  {
   "cell_type": "code",
   "execution_count": null,
   "id": "8195a0c1d875d75e",
   "metadata": {
    "collapsed": false
   },
   "outputs": [],
   "source": [
    "# We need to make sure that we do not exceed the budget of days off\n",
    "# So that did not really work ... \n",
    "# Let's add a constraint that we can only take a certain number of days off\n",
    "max_days_off = LocalConfig.HOLIDAY_BUDGET\n",
    "lhs_elements = []\n",
    "\n",
    "for period, decision_variable in dict_variables.items():\n",
    "    cost = calculate_cost_of_period(period, dict_cost_of_taking_day_off)\n",
    "    lhs_elements.append(decision_variable * cost)\n",
    "    \n",
    "budget_constraint = pulp.LpConstraint(e=pulp.lpSum(lhs_elements), sense=pulp.LpConstraintLE, rhs=max_days_off, name='BudgetConstraint')\n",
    "model.addConstraint(budget_constraint)\n"
   ]
  },
  {
   "cell_type": "code",
   "execution_count": null,
   "id": "9df3ef43adb81d43",
   "metadata": {
    "collapsed": false
   },
   "outputs": [],
   "source": []
  },
  {
   "cell_type": "code",
   "execution_count": null,
   "id": "55ac6ccc63c2086a",
   "metadata": {
    "collapsed": false
   },
   "outputs": [],
   "source": [
    "# On its own, this would lead to overlapping periods which is not realistic as we cannot get twice the gain of a single day off. Hence, we will add a set of constraints for each day of the week, indicating it can be covered only once.\n",
    "dict_date_variable_coverage: dict[date, set[pulp.LpVariable]] = {datestamp: set() for datestamp in all_dates_in_period}\n",
    "\n",
    "for period, decision_variable in dict_variables.items():\n",
    "    for datestamp in period.all_days():\n",
    "        dict_date_variable_coverage[datestamp].add(decision_variable)\n",
    "\n",
    "dict_date_constraints: dict[date, pulp.LpConstraint] = {}\n",
    "for datestamp, variables in dict_date_variable_coverage.items():\n",
    "    type_c = pulp.LpConstraintLE\n",
    "    \n",
    "    constraint = pulp.LpConstraint(\n",
    "        e=pulp.lpSum(variables),\n",
    "        sense=pulp.LpConstraintLE,\n",
    "        rhs=1,\n",
    "        name=f'OneDayPerDate_{datestamp}'\n",
    "    )\n",
    "    dict_date_constraints[datestamp] = constraint\n",
    "    model.addConstraint(constraint)\n",
    "    "
   ]
  },
  {
   "cell_type": "code",
   "execution_count": null,
   "id": "98d987fd2b80d81d",
   "metadata": {
    "collapsed": false
   },
   "outputs": [],
   "source": []
  },
  {
   "cell_type": "markdown",
   "id": "b083f76713851567",
   "metadata": {
    "collapsed": false
   },
   "source": [
    "# 3. Model solving and result interpretation"
   ]
  },
  {
   "cell_type": "code",
   "execution_count": null,
   "id": "affc889ec298ad37",
   "metadata": {
    "collapsed": false
   },
   "outputs": [],
   "source": [
    "model.solve(pulp.PULP_CBC_CMD(timeLimit=20))"
   ]
  },
  {
   "cell_type": "code",
   "execution_count": null,
   "id": "d90834b46290bc84",
   "metadata": {
    "collapsed": false
   },
   "outputs": [],
   "source": [
    "if model.status != pulp.LpStatusOptimal:\n",
    "    print(\"Model did not find an optimal solution\")"
   ]
  },
  {
   "cell_type": "code",
   "execution_count": null,
   "id": "b24e1484af57fd3f",
   "metadata": {
    "collapsed": false
   },
   "outputs": [],
   "source": [
    "# Extract the solution by checking the holiday periods we should take off based on the model's optimal result\n",
    "def get_selected_holiday_periods(dict_variables: dict[HolidayPeriod, pulp.LpVariable]) -> list[HolidayPeriod]:\n",
    "    selected_periods = []\n",
    "    for period, decision_variable in dict_variables.items():\n",
    "        if decision_variable.value() is None:\n",
    "            continue\n",
    "\n",
    "        if decision_variable.varValue > 0.99:\n",
    "            selected_periods.append(period)\n",
    "\n",
    "    return selected_periods"
   ]
  },
  {
   "cell_type": "code",
   "execution_count": null,
   "id": "a45772a2a6e727bc",
   "metadata": {
    "collapsed": false
   },
   "outputs": [],
   "source": [
    "selected_periods = get_selected_holiday_periods(dict_variables)\n",
    "\n",
    "print(f\"Selected {len(selected_periods)} holiday periods\\n\")\n",
    "for period in selected_periods:\n",
    "    cost = calculate_cost_of_period(period, dict_cost_of_taking_day_off)\n",
    "    value = calculate_value_of_period(period, dict_marginal_value_of_day_off, calculate_value_for_period_duration)\n",
    "    print(f\"\\t{period} -> cost: {cost} \\t value: {value}\")"
   ]
  },
  {
   "cell_type": "code",
   "execution_count": null,
   "id": "5c4789ddf9400535",
   "metadata": {
    "collapsed": false
   },
   "outputs": [],
   "source": [
    "def get_all_days_off(all_periods: list[HolidayPeriod]) -> set[date]:\n",
    "    all_dates_off = set()\n",
    "    \n",
    "    for period in all_periods:\n",
    "        all_dates_off = all_dates_off.union(set(period.all_days()))\n",
    "    \n",
    "    return all_dates_off\n"
   ]
  },
  {
   "cell_type": "code",
   "execution_count": null,
   "id": "d6cbe4279af5a668",
   "metadata": {
    "collapsed": false
   },
   "outputs": [],
   "source": [
    "all_dates_off = get_all_days_off(selected_periods)"
   ]
  },
  {
   "cell_type": "code",
   "execution_count": null,
   "id": "d44366beab7ccd35",
   "metadata": {
    "collapsed": false
   },
   "outputs": [],
   "source": [
    "holiday_calendar_plot(all_public_holidays, all_weekend_days, all_dates_off)"
   ]
  },
  {
   "cell_type": "code",
   "execution_count": null,
   "id": "4ff7ca67cbc59eb8",
   "metadata": {
    "collapsed": false
   },
   "outputs": [],
   "source": []
  }
 ],
 "metadata": {
  "kernelspec": {
   "display_name": "Python 3 (ipykernel)",
   "language": "python",
   "name": "python3"
  },
  "language_info": {
   "codemirror_mode": {
    "name": "ipython",
    "version": 3
   },
   "file_extension": ".py",
   "mimetype": "text/x-python",
   "name": "python",
   "nbconvert_exporter": "python",
   "pygments_lexer": "ipython3",
   "version": "3.10.5"
  }
 },
 "nbformat": 4,
 "nbformat_minor": 5
}
